{
  "nbformat": 4,
  "nbformat_minor": 5,
  "metadata": {
    "colab": {
      "name": "RF_EK.ipynb",
      "provenance": [],
      "collapsed_sections": [],
      "include_colab_link": true
    },
    "kernelspec": {
      "display_name": "Python 3",
      "language": "python",
      "name": "python3"
    },
    "language_info": {
      "codemirror_mode": {
        "name": "ipython",
        "version": 3
      },
      "file_extension": ".py",
      "mimetype": "text/x-python",
      "name": "python",
      "nbconvert_exporter": "python",
      "pygments_lexer": "ipython3",
      "version": "3.6.12"
    }
  },
  "cells": [
    {
      "cell_type": "markdown",
      "metadata": {
        "id": "view-in-github",
        "colab_type": "text"
      },
      "source": [
        "<a href=\"https://colab.research.google.com/github/qyune/Random-Forest-For-Imbalanced-Dataset/blob/main/RF_EK.ipynb\" target=\"_parent\"><img src=\"https://colab.research.google.com/assets/colab-badge.svg\" alt=\"Open In Colab\"/></a>"
      ]
    },
    {
      "cell_type": "markdown",
      "metadata": {
        "id": "compliant-series"
      },
      "source": [
        "# Data Preprocessing"
      ],
      "id": "compliant-series"
    },
    {
      "cell_type": "code",
      "metadata": {
        "id": "Vi_QK0NZ_DDv"
      },
      "source": [
        "# df = pd.read_csv('down_ins_data.csv')\r\n",
        "# print(df.head(5))\r\n",
        "# print(df['Response'].value_counts())"
      ],
      "id": "Vi_QK0NZ_DDv",
      "execution_count": null,
      "outputs": []
    },
    {
      "cell_type": "code",
      "metadata": {
        "id": "enormous-house",
        "colab": {
          "base_uri": "https://localhost:8080/"
        },
        "outputId": "7a41e2a6-6772-47c7-c050-961737470854"
      },
      "source": [
        "import pandas as pd\n",
        "import numpy as np\n",
        "import matplotlib.pyplot as plt\n",
        "import seaborn as sns\n",
        "from sklearn.model_selection import train_test_split\n",
        "from sklearn.metrics import plot_confusion_matrix\n",
        "from sklearn.ensemble import RandomForestClassifier\n",
        "from sklearn.model_selection import cross_val_score, cross_validate\n",
        "from sklearn.model_selection import RepeatedStratifiedKFold\n",
        "from statistics import mean\n",
        "from sklearn.model_selection import GridSearchCV\n",
        "from imblearn.ensemble import BalancedRandomForestClassifier\n",
        "from sklearn.ensemble import BaggingClassifier\n",
        "from imblearn.ensemble import BalancedBaggingClassifier\n",
        "from collections import Counter\n",
        "from matplotlib import pyplot\n",
        "from sklearn.metrics import roc_curve, confusion_matrix, plot_confusion_matrix, classification_report\n",
        "from sklearn.metrics import precision_recall_curve\n",
        "from sklearn.metrics import f1_score\n",
        "from sklearn.metrics import auc\n",
        "from imblearn.over_sampling import SMOTE"
      ],
      "id": "enormous-house",
      "execution_count": null,
      "outputs": [
        {
          "output_type": "stream",
          "text": [
            "/usr/local/lib/python3.6/dist-packages/sklearn/externals/six.py:31: FutureWarning: The module is deprecated in version 0.21 and will be removed in version 0.23 since we've dropped support for Python 2.7. Please rely on the official version of six (https://pypi.org/project/six/).\n",
            "  \"(https://pypi.org/project/six/).\", FutureWarning)\n",
            "/usr/local/lib/python3.6/dist-packages/sklearn/utils/deprecation.py:144: FutureWarning: The sklearn.neighbors.base module is  deprecated in version 0.22 and will be removed in version 0.24. The corresponding classes / functions should instead be imported from sklearn.neighbors. Anything that cannot be imported from sklearn.neighbors is now part of the private API.\n",
            "  warnings.warn(message, FutureWarning)\n",
            "/usr/local/lib/python3.6/dist-packages/sklearn/utils/deprecation.py:144: FutureWarning: The sklearn.ensemble.bagging module is  deprecated in version 0.22 and will be removed in version 0.24. The corresponding classes / functions should instead be imported from sklearn.ensemble. Anything that cannot be imported from sklearn.ensemble is now part of the private API.\n",
            "  warnings.warn(message, FutureWarning)\n",
            "/usr/local/lib/python3.6/dist-packages/sklearn/utils/deprecation.py:144: FutureWarning: The sklearn.ensemble.base module is  deprecated in version 0.22 and will be removed in version 0.24. The corresponding classes / functions should instead be imported from sklearn.ensemble. Anything that cannot be imported from sklearn.ensemble is now part of the private API.\n",
            "  warnings.warn(message, FutureWarning)\n",
            "/usr/local/lib/python3.6/dist-packages/sklearn/utils/deprecation.py:144: FutureWarning: The sklearn.ensemble.forest module is  deprecated in version 0.22 and will be removed in version 0.24. The corresponding classes / functions should instead be imported from sklearn.ensemble. Anything that cannot be imported from sklearn.ensemble is now part of the private API.\n",
            "  warnings.warn(message, FutureWarning)\n",
            "/usr/local/lib/python3.6/dist-packages/sklearn/externals/joblib/__init__.py:15: FutureWarning: sklearn.externals.joblib is deprecated in 0.21 and will be removed in 0.23. Please import this functionality directly from joblib, which can be installed with: pip install joblib. If this warning is raised when loading pickled models, you may need to re-serialize those models with scikit-learn 0.21+.\n",
            "  warnings.warn(msg, category=FutureWarning)\n"
          ],
          "name": "stderr"
        }
      ]
    },
    {
      "cell_type": "markdown",
      "metadata": {
        "id": "rtDB09LgSpKZ"
      },
      "source": [
        "**The following command install the imbalanced-learn the latest version**"
      ],
      "id": "rtDB09LgSpKZ"
    },
    {
      "cell_type": "code",
      "metadata": {
        "id": "8veiTzq7bYF8"
      },
      "source": [
        "#!pip install -U imbalanced-learn"
      ],
      "id": "8veiTzq7bYF8",
      "execution_count": null,
      "outputs": []
    },
    {
      "cell_type": "markdown",
      "metadata": {
        "id": "fCwojNx7TSVA"
      },
      "source": [
        "**2. Data preprocessing** \r\n",
        "We directly load the dataset from the internet.\r\n",
        "After that, we transform categorical values to numerical values. We decided\r\n",
        "to make the dataset more imbalanced for the sake of showing different methods\r\n",
        "to handle extremely imbalanced datasets with Random Forest."
      ],
      "id": "fCwojNx7TSVA"
    },
    {
      "cell_type": "code",
      "metadata": {
        "colab": {
          "base_uri": "https://localhost:8080/"
        },
        "id": "VGj_NuJsTTz4",
        "outputId": "a19586f0-14e2-4274-872f-1ac4fc8e4a95"
      },
      "source": [
        "aug_train_url = 'https://raw.githubusercontent.com/qyune/Random-Forest-For-Imbalanced-Dataset/main/aug_train.csv'\r\n",
        "df = pd.read_csv(aug_train_url)\r\n",
        "cleanup = {'Gender': {'Male': 1, 'Female': 0},\r\n",
        "       'Vehicle_Damage': {'Yes': 1, 'No': 0},\r\n",
        "       'Vehicle_Age':{'< 1 Year': 0, '1-2 Year': 1, '> 2 Years': 2}}\r\n",
        "df = df.replace(cleanup)\r\n",
        "df = df.drop('id', axis=1)\r\n",
        "print(df.head(5))\r\n",
        "print(df['Response'].value_counts())\r\n",
        "# form groups by 'Response' class\r\n",
        "grouped = df.groupby('Response')\r\n",
        "# spilt data by 'Response' label\r\n",
        "min_df = grouped.get_group(1)\r\n",
        "maj_df = grouped.get_group(0)\r\n",
        "# randomly select of 'Response' class\r\n",
        "maj_df = maj_df.sample(frac=.2, random_state=2)\r\n",
        "min_df = min_df.sample(frac=.1, random_state=2)\r\n",
        "# combine two dataframe\r\n",
        "frames = [maj_df, min_df]\r\n",
        "df = pd.concat(frames)\r\n",
        "# randomize the order\r\n",
        "df = df.sample(frac=1).reset_index(drop=True)\r\n",
        "print(df.head(5))\r\n",
        "print(df['Response'].value_counts())\r\n",
        "#df.to_csv('down_ins_data.csv', index=False)\r\n",
        "#spilt data to train and test sets\r\n",
        "X = df.iloc[:, 0:10].values\r\n",
        "y = df.iloc[:, 10].values\r\n",
        "print(X)\r\n",
        "print(y)"
      ],
      "id": "VGj_NuJsTTz4",
      "execution_count": null,
      "outputs": [
        {
          "output_type": "stream",
          "text": [
            "   Gender  Age  Driving_License  ...  Policy_Sales_Channel  Vintage  Response\n",
            "0       1   22                1  ...                 152.0       16         0\n",
            "1       1   42                1  ...                  26.0      135         0\n",
            "2       0   66                1  ...                 124.0      253         0\n",
            "3       0   22                1  ...                 152.0       69         0\n",
            "4       1   28                1  ...                 152.0      211         0\n",
            "\n",
            "[5 rows x 11 columns]\n",
            "0    319553\n",
            "1     62601\n",
            "Name: Response, dtype: int64\n",
            "   Gender  Age  Driving_License  ...  Policy_Sales_Channel  Vintage  Response\n",
            "0       1   43                1  ...                   8.0      250         0\n",
            "1       1   62                1  ...                 124.0      108         0\n",
            "2       1   23                1  ...                 124.0      121         1\n",
            "3       1   35                1  ...                 152.0      209         0\n",
            "4       1   41                1  ...                 124.0      182         0\n",
            "\n",
            "[5 rows x 11 columns]\n",
            "0    63911\n",
            "1     6260\n",
            "Name: Response, dtype: int64\n",
            "[[1.0000e+00 4.3000e+01 1.0000e+00 ... 3.4687e+04 8.0000e+00 2.5000e+02]\n",
            " [1.0000e+00 6.2000e+01 1.0000e+00 ... 3.0523e+04 1.2400e+02 1.0800e+02]\n",
            " [1.0000e+00 2.3000e+01 1.0000e+00 ... 2.4174e+04 1.2400e+02 1.2100e+02]\n",
            " ...\n",
            " [0.0000e+00 2.7000e+01 1.0000e+00 ... 4.8342e+04 1.5200e+02 2.7100e+02]\n",
            " [1.0000e+00 6.5000e+01 1.0000e+00 ... 6.7710e+04 2.6000e+01 1.8000e+01]\n",
            " [0.0000e+00 2.3000e+01 1.0000e+00 ... 2.6300e+03 1.5200e+02 4.2000e+01]]\n",
            "[0 0 1 ... 0 0 0]\n"
          ],
          "name": "stdout"
        }
      ]
    },
    {
      "cell_type": "code",
      "metadata": {
        "colab": {
          "base_uri": "https://localhost:8080/"
        },
        "id": "v5BhsrTPr3yM",
        "outputId": "6a4e41c7-1125-42c3-b0ac-66e9715049bb"
      },
      "source": [
        "X_train, X_test, y_train, y_test = train_test_split(X, y, test_size=0.1, stratify=y)\r\n",
        "# train_0, train_1 = len(y_train[y_train==0]), len(y_train[y_train==1])\r\n",
        "# test_0, test_1 = len(y_test[y_test==0]), len(y_test[y_test==1])\r\n",
        "# print('>Train: 0=%d, 1=%d, Test: 0=%d, 1=%d' % (train_0, train_1, test_0, test_1))"
      ],
      "id": "v5BhsrTPr3yM",
      "execution_count": null,
      "outputs": [
        {
          "output_type": "stream",
          "text": [
            ">Train: 0=57519, 1=5634, Test: 0=6392, 1=626\n"
          ],
          "name": "stdout"
        }
      ]
    },
    {
      "cell_type": "code",
      "metadata": {
        "id": "Li734ulgcmsF"
      },
      "source": [
        "model = RandomForestClassifier(n_estimators=1, random_state=0)\r\n",
        "\r\n",
        "y_pred = model.predict(X_test)\r\n",
        "print(y_pred)\r\n",
        "fig = plot_confusion_matrix(Smote_RFC, X_test, y_test, display_labels=['Will Not Buy', 'Will Buy'], cmap='Greens')\r\n",
        "plt.title('SMOTE + Standard Random Forest Confusion Matrix')\r\n",
        "plt.show()\r\n",
        "print(confusion_matrix(y_test, y_pred))\r\n",
        "# predict probabilities\r\n",
        "target_names = ['Will Not Buy', 'Will Buy']\r\n",
        "print(classification_report(y_test, y_pred, target_names=target_names))"
      ],
      "id": "Li734ulgcmsF",
      "execution_count": null,
      "outputs": []
    },
    {
      "cell_type": "code",
      "metadata": {
        "colab": {
          "base_uri": "https://localhost:8080/"
        },
        "id": "4UEpdpBwIkS1",
        "outputId": "76787194-6e01-4229-a786-6c987c3309f7"
      },
      "source": [
        "oversample = SMOTE()\r\n",
        "over_X, over_y = oversample.fit_resample(X, y)\r\n",
        "counter = Counter(y)\r\n",
        "print(counter)\r\n",
        "over_X_train, over_X_test, over_y_train, over_y_test = train_test_split(over_X, over_y, test_size=0.1, stratify=over_y)\r\n",
        "train_0, train_1 = len( over_y_train[ over_y_train==0]), len( over_y_train[ over_y_train==1])\r\n",
        "test_0, test_1 = len(over_y_test[over_y_test==0]), len(over_y_test[over_y_test==1])\r\n",
        "print('>Train: 0=%d, 1=%d, Test: 0=%d, 1=%d' % (train_0, train_1, test_0, test_1))"
      ],
      "id": "4UEpdpBwIkS1",
      "execution_count": null,
      "outputs": [
        {
          "output_type": "stream",
          "text": [
            "/usr/local/lib/python3.6/dist-packages/sklearn/utils/deprecation.py:87: FutureWarning: Function safe_indexing is deprecated; safe_indexing is deprecated in version 0.22 and will be removed in version 0.24.\n",
            "  warnings.warn(msg, category=FutureWarning)\n"
          ],
          "name": "stderr"
        },
        {
          "output_type": "stream",
          "text": [
            "Counter({0: 63911, 1: 6260})\n",
            ">Train: 0=57519, 1=57520, Test: 0=6392, 1=6391\n"
          ],
          "name": "stdout"
        }
      ]
    },
    {
      "cell_type": "code",
      "metadata": {
        "colab": {
          "base_uri": "https://localhost:8080/",
          "height": 451
        },
        "id": "4a8iC7YyI4CX",
        "outputId": "460664c9-32db-491f-da61-da6f6de8b12d"
      },
      "source": [
        "Smote_RFC = RandomForestClassifier(n_estimators=150, random_state=0)\r\n",
        "Smote_RFC.fit(over_X_train, over_y_train)\r\n",
        "y_pred = Smote_RFC.predict(over_X_test)\r\n",
        "fig = plot_confusion_matrix(Smote_RFC, over_X_test, over_y_test)\r\n",
        "plt.title('Smote + Standard Random Forest Confusion Matrix')\r\n",
        "plt.show()\r\n",
        "#print(confusion_matrix(over_y_test, y_pred))\r\n",
        "# predict probabilities\r\n",
        "target_names = ['Will Not Buy', 'Will Buy']\r\n",
        "print(classification_report(over_y_test, y_pred, target_names=target_names))"
      ],
      "id": "4a8iC7YyI4CX",
      "execution_count": null,
      "outputs": [
        {
          "output_type": "display_data",
          "data": {
            "image/png": "[encoded data removed]",
            "text/plain": [
              "<Figure size 432x288 with 2 Axes>"
            ]
          },
          "metadata": {
            "tags": [],
            "needs_background": "light"
          }
        },
        {
          "output_type": "stream",
          "text": [
            "              precision    recall  f1-score   support\n",
            "\n",
            "Will Not Buy       0.94      0.94      0.94      6391\n",
            "    Will Buy       0.94      0.94      0.94      6392\n",
            "\n",
            "    accuracy                           0.94     12783\n",
            "   macro avg       0.94      0.94      0.94     12783\n",
            "weighted avg       0.94      0.94      0.94     12783\n",
            "\n"
          ],
          "name": "stdout"
        }
      ]
    },
    {
      "cell_type": "code",
      "metadata": {
        "colab": {
          "base_uri": "https://localhost:8080/",
          "height": 486
        },
        "id": "poSaJH8BL5LY",
        "outputId": "241fbb30-d1f4-4859-ab14-624caf3dcf3f"
      },
      "source": [
        "y_pred = Smote_RFC.predict(X_test)\r\n",
        "fig = plot_confusion_matrix(Smote_RFC, X_test, y_test, display_labels=['Will Not Buy', 'Will Buy'], cmap='Greens')\r\n",
        "plt.title('SMOTE + Standard Random Forest Confusion Matrix')\r\n",
        "plt.show()\r\n",
        "print(confusion_matrix(y_test, y_pred))\r\n",
        "# predict probabilities\r\n",
        "target_names = ['Will Not Buy', 'Will Buy']\r\n",
        "print(classification_report(y_test, y_pred, target_names=target_names))"
      ],
      "id": "poSaJH8BL5LY",
      "execution_count": null,
      "outputs": [
        {
          "output_type": "display_data",
          "data": {
            "image/png": "[encoded data removed]",
            "text/plain": [
              "<Figure size 432x288 with 2 Axes>"
            ]
          },
          "metadata": {
            "tags": [],
            "needs_background": "light"
          }
        },
        {
          "output_type": "stream",
          "text": [
            "[[6346   46]\n",
            " [  32  594]]\n",
            "              precision    recall  f1-score   support\n",
            "\n",
            "Will Not Buy       0.99      0.99      0.99      6392\n",
            "    Will Buy       0.93      0.95      0.94       626\n",
            "\n",
            "    accuracy                           0.99      7018\n",
            "   macro avg       0.96      0.97      0.97      7018\n",
            "weighted avg       0.99      0.99      0.99      7018\n",
            "\n"
          ],
          "name": "stdout"
        }
      ]
    },
    {
      "cell_type": "code",
      "metadata": {
        "colab": {
          "base_uri": "https://localhost:8080/",
          "height": 451
        },
        "id": "qmqRAbSZyLZt",
        "outputId": "0c90009e-81c4-448c-d787-cf821d356e15"
      },
      "source": [
        "BRFC = BalancedRandomForestClassifier(n_estimators=150, random_state=2)\r\n",
        "BRFC.fit(X_train, y_train)\r\n",
        "y_pred = BRFC.predict(X_test)\r\n",
        "fig = plot_confusion_matrix(BRFC, X_test, y_test, display_labels=['Will Not Buy', 'Will Buy'], cmap='Greens')\r\n",
        "plt.title('Balanced Random Forest Confusion Matrix')\r\n",
        "plt.show()\r\n",
        "#print(confusion_matrix(y_test, y_pred))\r\n",
        "# # predict probabilities\r\n",
        "# yhat = BRFC.predict_proba(X_test)\r\n",
        "# # retrieve just the probabilities for the positive class\r\n",
        "# pos_probs = yhat[:, 1]\r\n",
        "# # calculate roc curve for model\r\n",
        "# fpr1, tpr1, _ = roc_curve(y_test, pos_probs)\r\n",
        "# # plot model roc curve\r\n",
        "# #pyplot.plot(fpr1, tpr1, marker='.', label='BRFC', color='blue')\r\n",
        "# #color='orange',\r\n",
        "target_names = ['Will Not Buy', 'Will Buy']\r\n",
        "print(classification_report(y_test, y_pred, target_names=target_names))"
      ],
      "id": "qmqRAbSZyLZt",
      "execution_count": null,
      "outputs": [
        {
          "output_type": "display_data",
          "data": {
            "image/png": "[encoded data removed]",
            "text/plain": [
              "<Figure size 432x288 with 2 Axes>"
            ]
          },
          "metadata": {
            "tags": [],
            "needs_background": "light"
          }
        },
        {
          "output_type": "stream",
          "text": [
            "              precision    recall  f1-score   support\n",
            "\n",
            "Will Not Buy       0.99      0.75      0.85      6392\n",
            "    Will Buy       0.26      0.90      0.40       626\n",
            "\n",
            "    accuracy                           0.76      7018\n",
            "   macro avg       0.62      0.82      0.63      7018\n",
            "weighted avg       0.92      0.76      0.81      7018\n",
            "\n"
          ],
          "name": "stdout"
        }
      ]
    },
    {
      "cell_type": "code",
      "metadata": {
        "colab": {
          "base_uri": "https://localhost:8080/",
          "height": 470
        },
        "id": "2_Zir0fWv_uH",
        "outputId": "5212b803-c7b9-45b3-c922-650210d85a94"
      },
      "source": [
        "#training\r\n",
        "model = RandomForestClassifier(n_estimators=150, random_state=0)\r\n",
        "model.fit(X_train, y_train)\r\n",
        "y_pred = model.predict(X_test)\r\n",
        "fig = plot_confusion_matrix(model, X_test, y_test, display_labels=['Will Not Buy', 'Will Buy'], cmap='Greens')\r\n",
        "plt.title('Standard Random Forest Confusion Matrix')\r\n",
        "plt.show()\r\n",
        "print(confusion_matrix(y_test, y_pred))\r\n",
        "target_names = ['Will Not Buy', 'Will Buy']\r\n",
        "print(classification_report(y_test, y_pred, target_names=target_names))"
      ],
      "id": "2_Zir0fWv_uH",
      "execution_count": null,
      "outputs": [
        {
          "output_type": "display_data",
          "data": {
            "image/png": "[encoded data removed]",
            "text/plain": [
              "<Figure size 432x288 with 2 Axes>"
            ]
          },
          "metadata": {
            "tags": [],
            "needs_background": "light"
          }
        },
        {
          "output_type": "stream",
          "text": [
            "[[6268  124]\n",
            " [ 554   72]]\n",
            "              precision    recall  f1-score   support\n",
            "\n",
            "Will Not Buy       0.92      0.98      0.95      6392\n",
            "    Will Buy       0.37      0.12      0.18       626\n",
            "\n",
            "    accuracy                           0.90      7018\n",
            "   macro avg       0.64      0.55      0.56      7018\n",
            "weighted avg       0.87      0.90      0.88      7018\n",
            "\n"
          ],
          "name": "stdout"
        }
      ]
    },
    {
      "cell_type": "markdown",
      "metadata": {
        "id": "Mn13z7Dz2nko"
      },
      "source": [
        "**Precision-Recall**"
      ],
      "id": "Mn13z7Dz2nko"
    },
    {
      "cell_type": "code",
      "metadata": {
        "colab": {
          "base_uri": "https://localhost:8080/",
          "height": 347
        },
        "id": "GIgmssLM2o_u",
        "outputId": "10f54e9b-8fce-4077-9216-037bf7e93503"
      },
      "source": [
        "# precision-recall curve and f1\r\n",
        "# fit a model\r\n",
        "# X_train, X_test, y_train, y_test\r\n",
        "# predict probabilities\r\n",
        "lr_probs = model.predict_proba(X_test)\r\n",
        "lr_probs_b = BRFC.predict_proba(X_test)\r\n",
        "lr_probs_c = Smote_RFC.predict_proba(X_test)\r\n",
        "# keep probabilities for the positive outcome only\r\n",
        "lr_probs = lr_probs[:, 1]\r\n",
        "lr_probs_b = lr_probs_b[:, 1]\r\n",
        "lr_probs_c = lr_probs_c[:, 1]\r\n",
        "# predict class values\r\n",
        "yhat = model.predict(X_test)\r\n",
        "lr_precision, lr_recall, _ = precision_recall_curve(y_test, lr_probs)\r\n",
        "lr_f1, lr_auc = f1_score(y_test, yhat), auc(lr_recall, lr_precision)\r\n",
        "#BRFC\r\n",
        "yhat_b = BRFC.predict(X_test)\r\n",
        "lr_precision_b, lr_recall_b, _ = precision_recall_curve(y_test, lr_probs_b)\r\n",
        "lr_f1_b, lr_auc_b = f1_score(y_test, yhat_b), auc(lr_recall_b, lr_precision_b)\r\n",
        "#SMOTE_RF\r\n",
        "yhat_c = Smote_RFC.predict(X_test)\r\n",
        "lr_precision_c, lr_recall_c, _ = precision_recall_curve(y_test, lr_probs_c)\r\n",
        "lr_f1_c, lr_auc_c = f1_score(y_test, yhat_c), auc(lr_recall_c, lr_precision_c)\r\n",
        "# summarize scores\r\n",
        "print('Standard RF: f1=%.3f auc=%.3f' % (lr_f1, lr_auc))\r\n",
        "print('Balanced RF: f1=%.3f auc=%.3f' % (lr_f1_b, lr_auc_b))\r\n",
        "print('SMOTE Standard RF: f1=%.3f auc=%.3f' % (lr_f1_c, lr_auc_c))\r\n",
        "# plot the precision-recall curves\r\n",
        "no_skill = len(y_test[y_test==1]) / len(y_test)\r\n",
        "pyplot.plot([0, 1], [no_skill, no_skill], linestyle='--', label='No Skill')\r\n",
        "pyplot.plot(lr_recall, lr_precision, marker='.', label='Standard Random Forest')\r\n",
        "pyplot.plot(lr_recall_b, lr_precision_b, marker='.', label='Balanced Random Forest', color='blue')\r\n",
        "pyplot.plot(lr_recall_c, lr_precision_c, marker='.', label='SMOTE + Standard Random Forest', color='green')\r\n",
        "# title\r\n",
        "pyplot.title(\"Precision-Recall Curves\") \r\n",
        "# axis labels\r\n",
        "pyplot.xlabel('Recall')\r\n",
        "pyplot.ylabel('Precision')\r\n",
        "# show the legend\r\n",
        "#pyplot.legend()\r\n",
        "pyplot.legend(bbox_to_anchor=(1.05, 1), loc='upper left')\r\n",
        "# show the plot\r\n",
        "pyplot.show()"
      ],
      "id": "GIgmssLM2o_u",
      "execution_count": null,
      "outputs": [
        {
          "output_type": "stream",
          "text": [
            "Standard RF: f1=0.175 auc=0.307\n",
            "Balanced RF: f1=0.405 auc=0.317\n",
            "SMOTE Standard RF: f1=0.938 auc=0.978\n"
          ],
          "name": "stdout"
        },
        {
          "output_type": "display_data",
          "data": {
            "image/png": "[encoded data removed]",
            "text/plain": [
              "<Figure size 432x288 with 1 Axes>"
            ]
          },
          "metadata": {
            "tags": [],
            "needs_background": "light"
          }
        }
      ]
    },
    {
      "cell_type": "markdown",
      "metadata": {
        "id": "upper-miami"
      },
      "source": [
        "# Standard Random Forest"
      ],
      "id": "upper-miami"
    },
    {
      "cell_type": "code",
      "metadata": {
        "id": "43VYmNfClRKo"
      },
      "source": [
        "# rf = RandomForestClassifier()\r\n",
        "# cv = RepeatedStratifiedKFold(n_splits=10, n_repeats=3, random_state=1)\r\n",
        "# parameters = {'n_estimators': [100, 200]}\r\n",
        "# gcv = GridSearchCV(estimator=rf, param_grid=parameters, scoring='roc_auc', cv=cv, n_jobs=-1)\r\n",
        "# print(\"GCV_ROC_AUC: {}\".format(gcv.score(X, y)))"
      ],
      "id": "43VYmNfClRKo",
      "execution_count": null,
      "outputs": []
    },
    {
      "cell_type": "code",
      "metadata": {
        "colab": {
          "base_uri": "https://localhost:8080/"
        },
        "id": "AA3pnlzXh2LO",
        "outputId": "a17eaba6-4f1c-437e-83bc-3a7bdbd4655d"
      },
      "source": [
        "%%time\n",
        "#training\n",
        "classifier = RandomForestClassifier(n_estimators=150, random_state=0)\n",
        "cv = RepeatedStratifiedKFold(n_splits=10, n_repeats=3, random_state=1)\n",
        "# enumerate the splits and summarize the distributions\n",
        "# for train_ix, test_ix in cv.split(X, y):\n",
        "# \t# select rows\n",
        "# \ttrain_X, test_X = X[train_ix], X[test_ix]\n",
        "# \ttrain_y, test_y = y[train_ix], y[test_ix]\n",
        "# \t# summarize train and test composition\n",
        "# \ttrain_0, train_1 = len(train_y[train_y==0]), len(train_y[train_y==1])\n",
        "# \ttest_0, test_1 = len(test_y[test_y==0]), len(test_y[test_y==1])\n",
        "# \tprint('>Train: 0=%d, 1=%d, Test: 0=%d, 1=%d' % (train_0, train_1, test_0, test_1))\n",
        "# cross validation to evaluate model\n",
        "scoring = ('f1', 'recall', 'precision', 'roc_auc')\n",
        "scores = cross_validate(classifier, X, y, scoring=scoring, cv=cv)\n",
        "# summarize performance\n",
        "#print('Mean ROC AUC: %.3f' % mean(scores['test_roc_auc']))\n",
        "print('Mean f1: %.3f' % mean(scores['test_f1']))\n",
        "print('Mean recall: %.3f' % mean(scores['test_recall']))\n",
        "print('Mean precision: %.3f' % mean(scores['test_precision']))\n",
        "# Mean ROC AUC: 0.888\n",
        "# Mean f1: 0.407\n",
        "# Mean recall: 0.914\n",
        "# Mean precision: 0.262\n",
        "# Mean accuracy: 0.762\n",
        "# CPU times: user 2min 41s, sys: 8.08 s, total: 2min 49s\n",
        "# Wall time: 2min 50s\n",
        "\n",
        "# Mean ROC AUC: 0.877\n",
        "# Mean f1: 0.154\n",
        "# Mean recall: 0.098\n",
        "# Mean precision: 0.359\n",
        "# Mean accuracy: 0.904\n",
        "# CPU times: user 4min 42s, sys: 965 ms, total: 4min 43s\n",
        "# Wall time: 4min 43s"
      ],
      "id": "AA3pnlzXh2LO",
      "execution_count": null,
      "outputs": [
        {
          "output_type": "stream",
          "text": [
            "Mean f1: 0.160\n",
            "Mean recall: 0.102\n",
            "Mean precision: 0.365\n",
            "CPU times: user 5min 7s, sys: 912 ms, total: 5min 8s\n",
            "Wall time: 5min 9s\n"
          ],
          "name": "stdout"
        }
      ]
    },
    {
      "cell_type": "markdown",
      "metadata": {
        "id": "hybrid-treasury"
      },
      "source": [
        "# Make sure you are using imblearn v0.7.0"
      ],
      "id": "hybrid-treasury"
    },
    {
      "cell_type": "code",
      "metadata": {
        "colab": {
          "base_uri": "https://localhost:8080/"
        },
        "id": "tropical-muscle",
        "outputId": "0a533f96-044e-4015-91f8-26c2baf0e3f2"
      },
      "source": [
        "# import imblearn\n",
        "# print(imblearn.__version__)"
      ],
      "id": "tropical-muscle",
      "execution_count": null,
      "outputs": [
        {
          "output_type": "stream",
          "text": [
            "0.7.0\n"
          ],
          "name": "stdout"
        }
      ]
    },
    {
      "cell_type": "markdown",
      "metadata": {
        "id": "under-aging"
      },
      "source": [
        "## Random Forest With Random Undersampling"
      ],
      "id": "under-aging"
    },
    {
      "cell_type": "code",
      "metadata": {
        "id": "governing-support",
        "colab": {
          "base_uri": "https://localhost:8080/"
        },
        "outputId": "cbe08cec-5bfb-45e0-977a-d8ca28eabfa1"
      },
      "source": [
        "%%time\n",
        "#required imblearn v0.7.0 and scikit-learn v0.22.1\n",
        "from imblearn.ensemble import BalancedRandomForestClassifier\n",
        "#print(Counter(y))\n",
        "\n",
        "\n",
        "classifier = BalancedRandomForestClassifier(n_estimators=150)\n",
        "cv = RepeatedStratifiedKFold(n_splits=10, n_repeats=3, random_state=1)\n",
        "# cross validation to evaluate model\n",
        "scoring = ('f1', 'recall', 'precision', 'roc_auc')\n",
        "scores = cross_validate(classifier, X, y, scoring=scoring, cv=cv)\n",
        "# summarize performance\n",
        "#print('Mean ROC AUC: %.3f' % mean(scores['test_roc_auc']))\n",
        "print('Mean f1: %.3f' % mean(scores['test_f1']))\n",
        "print('Mean recall: %.3f' % mean(scores['test_recall']))\n",
        "print('Mean precision: %.3f' % mean(scores['test_precision']))"
      ],
      "id": "governing-support",
      "execution_count": null,
      "outputs": [
        {
          "output_type": "stream",
          "text": [
            "Mean f1: 0.406\n",
            "Mean recall: 0.913\n",
            "Mean precision: 0.261\n",
            "CPU times: user 2min 53s, sys: 10.4 s, total: 3min 3s\n",
            "Wall time: 3min 3s\n"
          ],
          "name": "stdout"
        }
      ]
    },
    {
      "cell_type": "markdown",
      "metadata": {
        "id": "JD5-CVWxHjHa"
      },
      "source": [
        "## SMOTE"
      ],
      "id": "JD5-CVWxHjHa"
    },
    {
      "cell_type": "code",
      "metadata": {
        "colab": {
          "base_uri": "https://localhost:8080/"
        },
        "id": "4XRH8U1aHq1y",
        "outputId": "dac69b32-a76b-4f43-f546-023248a8dba6"
      },
      "source": [
        "from imblearn.over_sampling import SMOTE\r\n",
        "# transform the dataset\r\n",
        "oversample = SMOTE()\r\n",
        "Over_X, Over_y = oversample.fit_resample(X, y)\r\n",
        "counter = Counter(y)\r\n",
        "print(counter)\r\n",
        "classifier = RandomForestClassifier(n_estimators=150, random_state=0)\r\n",
        "cv = RepeatedStratifiedKFold(n_splits=10, n_repeats=3, random_state=1)\r\n",
        "scoring = ('f1', 'recall', 'precision')\r\n",
        "scores = cross_validate(classifier, Over_X, Over_y, scoring=scoring, cv=cv)\r\n",
        "# summarize performance\r\n",
        "print('Mean f1: %.3f' % mean(scores['test_f1']))\r\n",
        "print('Mean recall: %.3f' % mean(scores['test_recall']))\r\n",
        "print('Mean precision: %.3f' % mean(scores['test_precision']))"
      ],
      "id": "4XRH8U1aHq1y",
      "execution_count": null,
      "outputs": [
        {
          "output_type": "stream",
          "text": [
            "Counter({0: 63911, 1: 63911})\n",
            "Mean f1: 0.939\n",
            "Mean recall: 0.939\n",
            "Mean precision: 0.939\n"
          ],
          "name": "stdout"
        }
      ]
    }
  ]
}