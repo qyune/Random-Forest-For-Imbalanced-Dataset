{
  "nbformat": 4,
  "nbformat_minor": 5,
  "metadata": {
    "colab": {
      "name": "RFs_Imbalanced.ipynb",
      "provenance": [],
      "collapsed_sections": [],
      "include_colab_link": true
    },
    "kernelspec": {
      "display_name": "Python 3",
      "language": "python",
      "name": "python3"
    },
    "language_info": {
      "codemirror_mode": {
        "name": "ipython",
        "version": 3
      },
      "file_extension": ".py",
      "mimetype": "text/x-python",
      "name": "python",
      "nbconvert_exporter": "python",
      "pygments_lexer": "ipython3",
      "version": "3.6.12"
    }
  },
  "cells": [
    {
      "cell_type": "markdown",
      "metadata": {
        "id": "view-in-github",
        "colab_type": "text"
      },
      "source": [
        "<a href=\"https://colab.research.google.com/github/qyune/Random-Forest-For-Imbalanced-Dataset/blob/main/RFs_Imbalanced.ipynb\" target=\"_parent\"><img src=\"https://colab.research.google.com/assets/colab-badge.svg\" alt=\"Open In Colab\"/></a>"
      ]
    },
    {
      "cell_type": "markdown",
      "metadata": {
        "id": "compliant-series"
      },
      "source": [
        "# Data Preprocessing"
      ],
      "id": "compliant-series"
    },
    {
      "cell_type": "markdown",
      "metadata": {
        "id": "rtDB09LgSpKZ"
      },
      "source": [
        "**The following command install the imbalanced-learn the latest version**"
      ],
      "id": "rtDB09LgSpKZ"
    },
    {
      "cell_type": "code",
      "metadata": {
        "id": "8veiTzq7bYF8",
        "colab": {
          "base_uri": "https://localhost:8080/"
        },
        "outputId": "e117f5e8-dcc8-4941-c921-b6240828e599"
      },
      "source": [
        "!pip install -U imbalanced-learn"
      ],
      "id": "8veiTzq7bYF8",
      "execution_count": 8,
      "outputs": [
        {
          "output_type": "stream",
          "text": [
            "Requirement already up-to-date: imbalanced-learn in /usr/local/lib/python3.6/dist-packages (0.7.0)\n",
            "Requirement already satisfied, skipping upgrade: scipy>=0.19.1 in /usr/local/lib/python3.6/dist-packages (from imbalanced-learn) (1.4.1)\n",
            "Requirement already satisfied, skipping upgrade: joblib>=0.11 in /usr/local/lib/python3.6/dist-packages (from imbalanced-learn) (1.0.0)\n",
            "Requirement already satisfied, skipping upgrade: scikit-learn>=0.23 in /usr/local/lib/python3.6/dist-packages (from imbalanced-learn) (0.24.1)\n",
            "Requirement already satisfied, skipping upgrade: numpy>=1.13.3 in /usr/local/lib/python3.6/dist-packages (from imbalanced-learn) (1.19.5)\n",
            "Requirement already satisfied, skipping upgrade: threadpoolctl>=2.0.0 in /usr/local/lib/python3.6/dist-packages (from scikit-learn>=0.23->imbalanced-learn) (2.1.0)\n"
          ],
          "name": "stdout"
        }
      ]
    },
    {
      "cell_type": "markdown",
      "metadata": {
        "id": "hybrid-treasury"
      },
      "source": [
        "**Make sure you are using imblearn v0.7.0**\r\n",
        "\r\n"
      ],
      "id": "hybrid-treasury"
    },
    {
      "cell_type": "code",
      "metadata": {
        "colab": {
          "base_uri": "https://localhost:8080/"
        },
        "id": "tropical-muscle",
        "outputId": "02709e90-ff55-40fd-eb03-1ace7b6a7e19"
      },
      "source": [
        "import imblearn\n",
        "print(imblearn.__version__)"
      ],
      "id": "tropical-muscle",
      "execution_count": 9,
      "outputs": [
        {
          "output_type": "stream",
          "text": [
            "0.7.0\n"
          ],
          "name": "stdout"
        }
      ]
    },
    {
      "cell_type": "markdown",
      "metadata": {
        "id": "fCwojNx7TSVA"
      },
      "source": [
        "**2. Data preprocessing** \r\n",
        "We directly load the dataset and transform categorical values to numerical values. We decided\r\n",
        "to make the dataset more imbalanced for the sake of showing different methods\r\n",
        "to handle extremely imbalanced datasets with Random Forest."
      ],
      "id": "fCwojNx7TSVA"
    },
    {
      "cell_type": "code",
      "metadata": {
        "colab": {
          "base_uri": "https://localhost:8080/"
        },
        "id": "VGj_NuJsTTz4",
        "outputId": "8bff4bc4-f850-4d28-f8a4-b852cc93fe58"
      },
      "source": [
        "import pandas as pd\r\n",
        "import numpy as np\r\n",
        "df = pd.read_csv('data/aug_train.csv')\r\n",
        "# clean up dataset\r\n",
        "cleanup = {'Gender': {'Male': 1, 'Female': 0},\r\n",
        "       'Vehicle_Damage': {'Yes': 1, 'No': 0},\r\n",
        "       'Vehicle_Age':{'< 1 Year': 0, '1-2 Year': 1, '> 2 Years': 2}}\r\n",
        "df = df.replace(cleanup)\r\n",
        "df = df.drop('id', axis=1)\r\n",
        "print(df['Response'].value_counts())\r\n",
        "# form groups by 'Response' class\r\n",
        "grouped = df.groupby('Response')\r\n",
        "# spilt data by 'Response' label\r\n",
        "min_df = grouped.get_group(1)\r\n",
        "maj_df = grouped.get_group(0)\r\n",
        "# randomly select of 'Response' class\r\n",
        "maj_df = maj_df.sample(frac=.2, random_state=2)\r\n",
        "min_df = min_df.sample(frac=.1, random_state=2)\r\n",
        "# combine two dataframe\r\n",
        "frames = [maj_df, min_df]\r\n",
        "df = pd.concat(frames)\r\n",
        "# randomize the order\r\n",
        "df = df.sample(frac=1).reset_index(drop=True)\r\n",
        "print(df.head(5))\r\n",
        "print(df['Response'].value_counts())\r\n",
        "#spilt data to numpy arrays\r\n",
        "X = df.iloc[:, 0:10].values\r\n",
        "y = df.iloc[:, 10].values"
      ],
      "id": "VGj_NuJsTTz4",
      "execution_count": 10,
      "outputs": [
        {
          "output_type": "stream",
          "text": [
            "0    319553\n",
            "1     62601\n",
            "Name: Response, dtype: int64\n",
            "   Gender  Age  Driving_License  ...  Policy_Sales_Channel  Vintage  Response\n",
            "0       1   21                1  ...                 160.0       98         0\n",
            "1       1   26                1  ...                 152.0      121         0\n",
            "2       1   47                1  ...                  26.0      194         0\n",
            "3       0   25                1  ...                 152.0      193         0\n",
            "4       0   28                1  ...                 152.0      213         0\n",
            "\n",
            "[5 rows x 11 columns]\n",
            "0    63911\n",
            "1     6260\n",
            "Name: Response, dtype: int64\n"
          ],
          "name": "stdout"
        }
      ]
    },
    {
      "cell_type": "code",
      "metadata": {
        "colab": {
          "base_uri": "https://localhost:8080/"
        },
        "id": "v5BhsrTPr3yM",
        "outputId": "290789b2-2605-47b7-96e0-20ae3782d79b"
      },
      "source": [
        "from sklearn.model_selection import train_test_split\r\n",
        "X_train, X_test, y_train, y_test = train_test_split(X, y, test_size=0.1, stratify=y)\r\n",
        "print('train X', X_train.shape)\r\n",
        "print('train y', y_train.shape)\r\n",
        "print('test X', X_test.shape)\r\n",
        "print('test y', y_test.shape)"
      ],
      "id": "v5BhsrTPr3yM",
      "execution_count": 11,
      "outputs": [
        {
          "output_type": "stream",
          "text": [
            "train X (63153, 10)\n",
            "train y (63153,)\n",
            "test X (7018, 10)\n",
            "test y (7018,)\n"
          ],
          "name": "stdout"
        }
      ]
    },
    {
      "cell_type": "code",
      "metadata": {
        "colab": {
          "base_uri": "https://localhost:8080/"
        },
        "id": "4UEpdpBwIkS1",
        "outputId": "7842b508-703a-4ebe-b636-c8824d86f179"
      },
      "source": [
        "from sklearn.model_selection import train_test_split\r\n",
        "from imblearn.over_sampling import SMOTE\r\n",
        "# over sampling with smote\r\n",
        "oversample = SMOTE()\r\n",
        "over_X, over_y = oversample.fit_resample(X, y)\r\n",
        "over_X_train, over_X_test, over_y_train, over_y_test = train_test_split(over_X, over_y, test_size=0.1, stratify=over_y)\r\n",
        "print('SMOTE train X', over_X_train.shape)\r\n",
        "print('SMOTE train y', over_y_train.shape)\r\n",
        "print('SMOTE test X', over_X_test.shape)\r\n",
        "print('SMOTE test y', over_y_test.shape)"
      ],
      "id": "4UEpdpBwIkS1",
      "execution_count": 12,
      "outputs": [
        {
          "output_type": "stream",
          "text": [
            "SMOTE train X (115039, 10)\n",
            "SMOTE train y (115039,)\n",
            "SMOTE test X (12783, 10)\n",
            "SMOTE test y (12783,)\n"
          ],
          "name": "stdout"
        }
      ]
    },
    {
      "cell_type": "markdown",
      "metadata": {
        "id": "upper-miami"
      },
      "source": [
        "# Standard Random Forest"
      ],
      "id": "upper-miami"
    },
    {
      "cell_type": "code",
      "metadata": {
        "colab": {
          "base_uri": "https://localhost:8080/",
          "height": 346
        },
        "id": "AA3pnlzXh2LO",
        "outputId": "dfe6d385-e0dd-42cb-93c2-3d7ac480a9d3"
      },
      "source": [
        "#Importing essential libraries\n",
        "import matplotlib.pyplot as plt\n",
        "from statistics import mean\n",
        "from matplotlib import pyplot\n",
        "from sklearn.model_selection import train_test_split\n",
        "from sklearn.model_selection import cross_validate\n",
        "from sklearn.model_selection import RepeatedStratifiedKFold\n",
        "from sklearn.metrics import plot_confusion_matrix\n",
        "from sklearn.ensemble import RandomForestClassifier\n",
        "\n",
        "#Build SRF model\n",
        "SRF = RandomForestClassifier(n_estimators=150, random_state=0)\n",
        "#Create Stratified K-fold cross validation\n",
        "cv = RepeatedStratifiedKFold(n_splits=10, n_repeats=3, random_state=1)\n",
        "scoring = ('f1', 'recall', 'precision')\n",
        "#Evaluate SRF model\n",
        "scores = cross_validate(SRF, X, y, scoring=scoring, cv=cv)\n",
        "#Get average evaluation metrics\n",
        "print('Mean f1: %.3f' % mean(scores['test_f1']))\n",
        "print('Mean recall: %.3f' % mean(scores['test_recall']))\n",
        "print('Mean precision: %.3f' % mean(scores['test_precision']))\n",
        "\n",
        "#Randomly spilt dataset to test and train set\n",
        "X_train, X_test, y_train, y_test = train_test_split(X, y, test_size=0.1, stratify=y)\n",
        "#Train SRF\n",
        "SRF.fit(X_train, y_train)\n",
        "#SRF prediction result\n",
        "y_pred = SRF.predict(X_test)\n",
        "#Create confusion matrix\n",
        "fig = plot_confusion_matrix(SRF, X_test, y_test, display_labels=['Will Not Buy', 'Will Buy'], cmap='Greens')\n",
        "plt.title('Standard Random Forest Confusion Matrix')\n",
        "plt.show()"
      ],
      "id": "AA3pnlzXh2LO",
      "execution_count": 13,
      "outputs": [
        {
          "output_type": "stream",
          "text": [
            "Mean f1: 0.156\n",
            "Mean recall: 0.100\n",
            "Mean precision: 0.359\n"
          ],
          "name": "stdout"
        },
        {
          "output_type": "display_data",
          "data": {
            "image/png": "[encoded data removed]",
            "text/plain": [
              "<Figure size 432x288 with 2 Axes>"
            ]
          },
          "metadata": {
            "tags": [],
            "needs_background": "light"
          }
        }
      ]
    },
    {
      "cell_type": "markdown",
      "metadata": {
        "id": "under-aging"
      },
      "source": [
        "## Balanced Random Forest (BRF)"
      ],
      "id": "under-aging"
    },
    {
      "cell_type": "code",
      "metadata": {
        "id": "governing-support",
        "colab": {
          "base_uri": "https://localhost:8080/",
          "height": 346
        },
        "outputId": "3dd9c096-1db2-4de0-e553-8510947a6a87"
      },
      "source": [
        "#Importing essential libraries\n",
        "import matplotlib.pyplot as plt\n",
        "from statistics import mean\n",
        "from matplotlib import pyplot\n",
        "from sklearn.model_selection import train_test_split\n",
        "from sklearn.model_selection import cross_validate\n",
        "from sklearn.model_selection import RepeatedStratifiedKFold\n",
        "from sklearn.metrics import plot_confusion_matrix\n",
        "from imblearn.ensemble import BalancedRandomForestClassifier\n",
        "\n",
        "#Build BRF model\n",
        "BRF = BalancedRandomForestClassifier(n_estimators=150, random_state=2)\n",
        "#Create Stratified K-fold cross validation\n",
        "cv = RepeatedStratifiedKFold(n_splits=10, n_repeats=3, random_state=1)\n",
        "scoring = ('f1', 'recall', 'precision')\n",
        "#Evaluate BRF model\n",
        "scores = cross_validate(BRF, X, y, scoring=scoring, cv=cv)\n",
        "#Get average evaluation metrics\n",
        "print('Mean f1: %.3f' % mean(scores['test_f1']))\n",
        "print('Mean recall: %.3f' % mean(scores['test_recall']))\n",
        "print('Mean precision: %.3f' % mean(scores['test_precision']))\n",
        "\n",
        "#Randomly spilt dataset to test and train set\n",
        "X_train, X_test, y_train, y_test = train_test_split(X, y, test_size=0.1, stratify=y)\n",
        "#Train BRF\n",
        "BRF.fit(X_train, y_train)\n",
        "#BRF prediction result\n",
        "y_pred = BRF.predict(X_test)\n",
        "#Create confusion matrix\n",
        "fig = plot_confusion_matrix(BRF, X_test, y_test, display_labels=['Will Not Buy', 'Will Buy'], cmap='Greens')\n",
        "plt.title('Balanced Random Forest Confusion Matrix')\n",
        "plt.show()"
      ],
      "id": "governing-support",
      "execution_count": 14,
      "outputs": [
        {
          "output_type": "stream",
          "text": [
            "Mean f1: 0.406\n",
            "Mean recall: 0.915\n",
            "Mean precision: 0.261\n"
          ],
          "name": "stdout"
        },
        {
          "output_type": "display_data",
          "data": {
            "image/png": "[encoded data removed]",
            "text/plain": [
              "<Figure size 432x288 with 2 Axes>"
            ]
          },
          "metadata": {
            "tags": [],
            "needs_background": "light"
          }
        }
      ]
    },
    {
      "cell_type": "markdown",
      "metadata": {
        "id": "JD5-CVWxHjHa"
      },
      "source": [
        "## SMOTE"
      ],
      "id": "JD5-CVWxHjHa"
    },
    {
      "cell_type": "code",
      "metadata": {
        "colab": {
          "base_uri": "https://localhost:8080/",
          "height": 346
        },
        "id": "4XRH8U1aHq1y",
        "outputId": "20c01cf8-7bc6-4f83-de31-6a26f7fd995c"
      },
      "source": [
        "#Importing essential libraries\r\n",
        "import matplotlib.pyplot as plt\r\n",
        "from statistics import mean\r\n",
        "from matplotlib import pyplot\r\n",
        "from sklearn.model_selection import train_test_split\r\n",
        "from sklearn.model_selection import cross_validate\r\n",
        "from sklearn.model_selection import RepeatedStratifiedKFold\r\n",
        "from sklearn.metrics import plot_confusion_matrix\r\n",
        "from sklearn.ensemble import RandomForestClassifier\r\n",
        "from imblearn.over_sampling import SMOTE\r\n",
        "\r\n",
        "#Use SMOTE to oversample the minority class\r\n",
        "oversample = SMOTE()\r\n",
        "over_X, over_y = oversample.fit_resample(X, y)\r\n",
        "over_X_train, over_X_test, over_y_train, over_y_test = train_test_split(over_X, over_y, test_size=0.1, stratify=over_y)\r\n",
        "#Build SMOTE SRF model\r\n",
        "SMOTE_SRF = RandomForestClassifier(n_estimators=150, random_state=0)\r\n",
        "#Create Stratified K-fold cross validation\r\n",
        "cv = RepeatedStratifiedKFold(n_splits=10, n_repeats=3, random_state=1)\r\n",
        "scoring = ('f1', 'recall', 'precision')\r\n",
        "#Evaluate SMOTE SRF model\r\n",
        "scores = cross_validate(SMOTE_SRF, over_X, over_y, scoring=scoring, cv=cv)\r\n",
        "#Get average evaluation metrics\r\n",
        "print('Mean f1: %.3f' % mean(scores['test_f1']))\r\n",
        "print('Mean recall: %.3f' % mean(scores['test_recall']))\r\n",
        "print('Mean precision: %.3f' % mean(scores['test_precision']))\r\n",
        "\r\n",
        "#Randomly spilt dataset to test and train set\r\n",
        "X_train, X_test, y_train, y_test = train_test_split(X, y, test_size=0.1, stratify=y)\r\n",
        "#Train SMOTE SRF\r\n",
        "SMOTE_SRF.fit(over_X_train, over_y_train)\r\n",
        "#SMOTE SRF prediction result\r\n",
        "y_pred = SMOTE_SRF.predict(X_test)\r\n",
        "#Create confusion matrix\r\n",
        "fig = plot_confusion_matrix(SMOTE_SRF, X_test, y_test, display_labels=['Will Not Buy', 'Will Buy'], cmap='Greens')\r\n",
        "plt.title('SMOTE + Standard Random Forest Confusion Matrix')\r\n",
        "plt.show()"
      ],
      "id": "4XRH8U1aHq1y",
      "execution_count": 15,
      "outputs": [
        {
          "output_type": "stream",
          "text": [
            "Mean f1: 0.939\n",
            "Mean recall: 0.939\n",
            "Mean precision: 0.938\n"
          ],
          "name": "stdout"
        },
        {
          "output_type": "display_data",
          "data": {
            "image/png": "[encoded data removed]",
            "text/plain": [
              "<Figure size 432x288 with 2 Axes>"
            ]
          },
          "metadata": {
            "tags": [],
            "needs_background": "light"
          }
        }
      ]
    }
  ]
}